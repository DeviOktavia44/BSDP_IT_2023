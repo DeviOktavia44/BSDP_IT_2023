{
 "cells": [
  {
   "cell_type": "markdown",
   "id": "1f3bd1bf-be49-47b7-8c2b-ba7fe2c08881",
   "metadata": {},
   "source": [
    "# Exercise 1: Create a Jupyter Notebook\n",
    "\n",
    "Create a new Jupyter notebook called DataScienceEcosystem.ipynb"
   ]
  },
  {
   "cell_type": "markdown",
   "id": "d2e3b064-9c03-40c4-8c72-61d2fe0f85f1",
   "metadata": {},
   "source": [
    "# Exercise 2: Create markdown cell with title of the notebook\n",
    "\n",
    "Create a markdown cell with the title Data Science Tools and Ecosystem using H1 style heading."
   ]
  },
  {
   "cell_type": "markdown",
   "id": "25e51f00-3715-4420-8553-286dfcab8ccc",
   "metadata": {},
   "source": [
    "# Data Science Tools"
   ]
  },
  {
   "cell_type": "markdown",
   "id": "e37207da-b05c-4504-bc59-53546946332f",
   "metadata": {},
   "source": [
    "# Data Science Tools"
   ]
  },
  {
   "cell_type": "markdown",
   "id": "f729579e-9f0e-445f-8522-0f1e0b48bcd7",
   "metadata": {
    "tags": []
   },
   "source": [
    "# Exercise 3 - Create a markdown cell for an introduction\n",
    "\n",
    "Write an introductory sentence about the notebook such as the follows:\n",
    "\n",
    "In this notebook, Data Science Tools and Ecosystem are summarized."
   ]
  },
  {
   "cell_type": "markdown",
   "id": "8063b048-c677-4107-87d7-40529033347d",
   "metadata": {},
   "source": [
    "In this notebook, Data Science Tools and Ecosystem are summarized."
   ]
  },
  {
   "cell_type": "markdown",
   "id": "a6c13057-7ae2-4c73-a68f-d43941a30ddc",
   "metadata": {},
   "source": [
    "In this notebook, Data Science Tools and Ecosystem are summarized."
   ]
  },
  {
   "cell_type": "markdown",
   "id": "edd0b563-e8af-438e-906e-85649d717003",
   "metadata": {},
   "source": [
    "**Objectives:**"
   ]
  },
  {
   "cell_type": "markdown",
   "id": "204b2c7a-b137-4ca6-a788-0b2b1cd4e205",
   "metadata": {},
   "source": [
    "* List popular languages that Data Scientists use.\n",
    "* List commonly used libraries used by Data Scientists.\n",
    "* Comment on Data Science tools."
   ]
  },
  {
   "cell_type": "markdown",
   "id": "741630d0-63c6-4596-9b42-ad686da609f8",
   "metadata": {},
   "source": [
    "**Objectives:**"
   ]
  },
  {
   "cell_type": "markdown",
   "id": "e2f07f3a-6249-4db5-8124-ee85843fcbfc",
   "metadata": {},
   "source": [
    "* List popular languages that Data Scientists use.\n",
    "* List commonly used libraries used by Data Scientists.\n",
    "* Comment on Data Science tools."
   ]
  },
  {
   "cell_type": "markdown",
   "id": "bc5b6f5b-fa16-4c20-aae9-38ed581fe9b6",
   "metadata": {},
   "source": [
    "# Exercise 4 - Create a markdown cell to list data science languages\n",
    "\n",
    "Start the cell with an overview line such as:\n",
    "\n",
    "Some of the popular languages that Data Scientists use are:\n",
    "Then create an ordered list (i.e. numbered) listing 3 (or more) commonly used languages for data science."
   ]
  },
  {
   "cell_type": "markdown",
   "id": "47b63b5e-5229-486c-8f97-0b4307a1f49f",
   "metadata": {},
   "source": [
    "Some of the popular languages that Data Scientists use are: "
   ]
  },
  {
   "cell_type": "markdown",
   "id": "b74cd448-4441-4456-a36f-5d9a272326b3",
   "metadata": {},
   "source": [
    "1. Python\n",
    "2. R\n",
    "3. SQL\n",
    "4. Java\n",
    "5. Julia\n",
    "6. Scala\n",
    "7. C/C++\n",
    "8. Javascript"
   ]
  },
  {
   "cell_type": "markdown",
   "id": "7514e243-929e-4ede-a7c4-920ecf72c643",
   "metadata": {},
   "source": [
    "Some of the popular languages that Data Scientists use are: "
   ]
  },
  {
   "cell_type": "markdown",
   "id": "e6c8b667-eef6-4b75-a78e-80a56803d93f",
   "metadata": {},
   "source": [
    "1. Python\n",
    "2. R\n",
    "3. SQL\n",
    "4. Java\n",
    "5. Julia\n",
    "6. Scala\n",
    "7. C/C++\n",
    "8. Javascript"
   ]
  },
  {
   "cell_type": "markdown",
   "id": "3dce407f-a5b9-427d-aba4-f254944f902d",
   "metadata": {},
   "source": [
    "# Exercise 5 - Create a markdown cell to list data science libraries\n",
    "\n",
    "Add an overview line to the cell like:\n",
    "\n",
    "Some of the commonly used libraries used by Data Scientists include:\n",
    "Below this line add an ordered list listing 3 (or more) commonly used libraries in data science."
   ]
  },
  {
   "cell_type": "markdown",
   "id": "157cee92-01cb-44d9-af3a-1fe8b7b95900",
   "metadata": {},
   "source": [
    "Some of the commonly used libraries used by Data Scientists include: "
   ]
  },
  {
   "cell_type": "markdown",
   "id": "ae1936c7-246a-4597-af28-871f8debb3ef",
   "metadata": {},
   "source": [
    "1. NumPy\n",
    "2. Pandas\n",
    "3. TensorFlow\n",
    "4. Matplotlib\n",
    "5. Seaborn\n",
    "6. Scikit-Learn\n",
    "7. Keras\n",
    "8. PyTorch\n",
    "9. LightGBM\n",
    "10. BeautifulSoup\n",
    "11. Caffe2"
   ]
  },
  {
   "cell_type": "markdown",
   "id": "44b9c43e-3f0c-449a-b1f1-4f416ad5da65",
   "metadata": {},
   "source": [
    "Some of the commonly used libraries used by Data Scientists include: "
   ]
  },
  {
   "cell_type": "markdown",
   "id": "834773f1-9a5b-4987-bf05-85b2bae5a456",
   "metadata": {},
   "source": [
    "1. NumPy\n",
    "2. Pandas\n",
    "3. TensorFlow\n",
    "4. Matplotlib\n",
    "5. Seaborn\n",
    "6. Scikit-Learn\n",
    "7. Keras\n",
    "8. PyTorch\n",
    "9. LightGBM\n",
    "10. BeautifulSoup\n",
    "11. Caffe2"
   ]
  },
  {
   "cell_type": "markdown",
   "id": "f5590edf-f0d8-46dd-a5a0-ff05c8bcd71a",
   "metadata": {},
   "source": [
    "# Exercise 6 - Create a markdown cell with a table of Data Science tools\n",
    "\n",
    "Create a single column table in this cell with the first row containing the header Data Science Tools. The subsequent three rows in the table should indicate three development environment open source tools used in data science.\n"
   ]
  },
  {
   "cell_type": "markdown",
   "id": "79f90873-b0ac-456c-af32-c1d67e0a0f94",
   "metadata": {},
   "source": [
    "<table>\n",
    "    <tr>\n",
    "        <th>Data Science Tools</th>\n",
    "    </tr>\n",
    "    <tr>\n",
    "        <td>Apache Spark</td>\n",
    "    </tr>\n",
    "    <tr>\n",
    "        <td>SAS</td>\n",
    "    </tr>\n",
    "    <tr>\n",
    "        <td>BigML</td>\n",
    "    </tr>\n",
    "</table>"
   ]
  },
  {
   "cell_type": "markdown",
   "id": "00fa91f5-cb4c-4073-a23f-d5ce5aa55e6f",
   "metadata": {},
   "source": [
    "<table>\n",
    "    <tr>\n",
    "        <th>Data Science Tools</th>\n",
    "    </tr>\n",
    "    <tr>\n",
    "        <td>Apache Spark</td>\n",
    "    </tr>\n",
    "    <tr>\n",
    "        <td>SAS</td>\n",
    "    </tr>\n",
    "    <tr>\n",
    "        <td>BigML</td>\n",
    "    </tr>\n",
    "</table>"
   ]
  },
  {
   "cell_type": "markdown",
   "id": "cadfddf0-748e-4c08-8497-64f550bc2be3",
   "metadata": {},
   "source": [
    "# Exercise 7 - Create a markdown cell introducing arithmetic expression examples\n",
    "\n",
    "Add a line in this cell with H3 style heading with text like:\n",
    "\n",
    "Below are a few examples of evaluating arithmetic expressions in Python."
   ]
  },
  {
   "cell_type": "markdown",
   "id": "38c0128b-05d8-4af7-bdac-854585c41983",
   "metadata": {},
   "source": [
    "### Below are a few examples of evaluating arithmetic expressions in Python."
   ]
  },
  {
   "cell_type": "markdown",
   "id": "2550ffc6-6c51-47f1-b288-d827de747b2b",
   "metadata": {},
   "source": [
    "### Below are a few examples of evaluating arithmetic expressions in Python."
   ]
  },
  {
   "cell_type": "markdown",
   "id": "fa717a22-3c08-42f9-a029-727aee15f622",
   "metadata": {},
   "source": [
    "# Exercise 8 - Create a code cell to multiply and add numbers\n",
    "\n",
    "In this code cell evaluate the expression (3*4)+5.\n",
    "Insert a comment line before the expression to explain the operation e.g.  This a simple arithmetic expression to mutiply then add integers.\n",
    "Then execute the cell to ensure the expression returns the expected output of 17."
   ]
  },
  {
   "cell_type": "code",
   "execution_count": 2,
   "id": "b93da484-035a-4176-96b0-bf1ab63e8e26",
   "metadata": {
    "tags": []
   },
   "outputs": [
    {
     "data": {
      "text/plain": [
       "17"
      ]
     },
     "execution_count": 2,
     "metadata": {},
     "output_type": "execute_result"
    }
   ],
   "source": [
    "# This a simple arithmetic expression to mutiply then add integers\n",
    "(3*4)+5"
   ]
  },
  {
   "cell_type": "markdown",
   "id": "1a2cd0b6-2196-40b8-af75-9d71ab79de6c",
   "metadata": {},
   "source": [
    "# Exercise 9 - Create a code cell to convert minutes to hours\n",
    "\n",
    "In this code cell write an expression that converts 200 minutes into hours.\n",
    "Insert a comment line before the expression to explain the operation e.g.  This will convert 200 minutes to hours by diving by 60.\n",
    "Run the cell to evaluate the expression."
   ]
  },
  {
   "cell_type": "code",
   "execution_count": 3,
   "id": "f09ebf6c-1319-4a70-9f12-7864523e099b",
   "metadata": {
    "tags": []
   },
   "outputs": [
    {
     "name": "stdout",
     "output_type": "stream",
     "text": [
      "3.3333333333333335 hours\n"
     ]
    }
   ],
   "source": [
    "# This will convert 200 minutes to hours by diving by 60\n",
    "mins = 200\n",
    "hours = 0\n",
    "\n",
    "hours = mins/60\n",
    "print(str(hours) + \" hours\")"
   ]
  },
  {
   "cell_type": "markdown",
   "id": "ee6f8ab2-e54e-4e87-8643-6d757cca7644",
   "metadata": {},
   "source": [
    "# Exercise 10 - Insert a markdown cell to list Objectives\n",
    "\n",
    "Below the introduction cell created in Exercise 3, insert a new markdown cell to list the objectives that this notebook covered (i.e. some of the key takeaways from the course). In this new cell start with an introductory line titled: Objectives: in bold font. Then using an unordered list (bullets) indicate 3 to 5 items covered in this notebook, such as List popular languages for Data Science."
   ]
  },
  {
   "cell_type": "markdown",
   "id": "9c8921d5-df4b-4f74-a115-3b59acb8e71e",
   "metadata": {},
   "source": [
    "# Exercise 11 - Create a markdown cell to indicate the Author's name\n",
    "\n",
    "In this markdown cell markdown cell include the following text Author in H2 style heading. Include your name as regular text below the word Author."
   ]
  },
  {
   "cell_type": "markdown",
   "id": "f7fe0b7b-1f95-4818-aac5-e39c707b8f99",
   "metadata": {},
   "source": [
    "## Author\n",
    "Devi Oktavia"
   ]
  },
  {
   "cell_type": "markdown",
   "id": "893852f2-925e-4d70-9721-0cda8af7cf7b",
   "metadata": {},
   "source": [
    "## Author\n",
    "Devi Oktavia"
   ]
  }
 ],
 "metadata": {
  "kernelspec": {
   "display_name": "Python",
   "language": "python",
   "name": "conda-env-python-py"
  },
  "language_info": {
   "codemirror_mode": {
    "name": "ipython",
    "version": 3
   },
   "file_extension": ".py",
   "mimetype": "text/x-python",
   "name": "python",
   "nbconvert_exporter": "python",
   "pygments_lexer": "ipython3",
   "version": "3.7.12"
  }
 },
 "nbformat": 4,
 "nbformat_minor": 5
}
